{
 "cells": [
  {
   "cell_type": "code",
   "execution_count": 1,
   "metadata": {},
   "outputs": [
    {
     "name": "stderr",
     "output_type": "stream",
     "text": [
      "d:\\anaconda\\envs\\pytorch_venv\\lib\\site-packages\\tqdm\\auto.py:22: TqdmWarning: IProgress not found. Please update jupyter and ipywidgets. See https://ipywidgets.readthedocs.io/en/stable/user_install.html\n",
      "  from .autonotebook import tqdm as notebook_tqdm\n"
     ]
    }
   ],
   "source": [
    "import numpy as np\n",
    "import matplotlib.pyplot as plt\n",
    "import torch\n",
    "import torch.nn as nn\n",
    "import torch.nn.functional as F\n",
    "import pandas as pd\n",
    "from sklearn.model_selection import train_test_split\n",
    "from helpers import *"
   ]
  },
  {
   "cell_type": "code",
   "execution_count": 2,
   "metadata": {},
   "outputs": [],
   "source": [
    "class SumLayer(nn.Linear):\n",
    "    def __init__(self, criteria_nr, sum_layer_weight_std=0, **kwargs):\n",
    "        super().__init__(criteria_nr, 1, bias=False)\n",
    "        self.weight = nn.Parameter(\n",
    "            (torch.zeros(1, criteria_nr).uniform_(-1, 1) * sum_layer_weight_std + 1)\n",
    "            / criteria_nr\n",
    "        )\n",
    "\n",
    "    def w(self):\n",
    "        return torch.clamp(self.weight, 0.01)\n",
    "\n",
    "    def forward(self, x):\n",
    "        return (x * self.w()).sum(1).view(-1, 1)"
   ]
  },
  {
   "cell_type": "code",
   "execution_count": 3,
   "metadata": {},
   "outputs": [],
   "source": [
    "class CriterionLayerSpread(nn.Module):\n",
    "    def __init__(\n",
    "        self,\n",
    "        criteria_nr,\n",
    "        hidden_nr,\n",
    "        input_range=(0, 1),\n",
    "        criterion_layer_spread_normalize_bias=False,\n",
    "        **kwargs\n",
    "    ):\n",
    "        input_range = (-input_range[0], -input_range[1])\n",
    "        self.max_bias = max(input_range)\n",
    "        self.min_bias = min(input_range)\n",
    "        super().__init__()\n",
    "        self.normalize_bias = criterion_layer_spread_normalize_bias\n",
    "        self.bias = nn.Parameter(torch.FloatTensor(hidden_nr, criteria_nr))\n",
    "        self.weight = nn.Parameter(torch.FloatTensor(hidden_nr, criteria_nr))\n",
    "        self.reset_parameters()\n",
    "\n",
    "    def b(self):\n",
    "        if self.normalize_bias:\n",
    "            return torch.clamp(self.bias, self.min_bias, self.max_bias)\n",
    "        else:\n",
    "            return self.bias\n",
    "\n",
    "    def reset_parameters(self):\n",
    "        nn.init.uniform_(self.weight, 1, 10.0)\n",
    "        nn.init.uniform_(self.bias, self.min_bias, self.max_bias)\n",
    "\n",
    "    def w(self):\n",
    "        return torch.clamp(self.weight, 0.0)\n",
    "\n",
    "    def forward(self, x):\n",
    "        return (x + self.b()) * self.w()"
   ]
  },
  {
   "cell_type": "code",
   "execution_count": 4,
   "metadata": {},
   "outputs": [],
   "source": [
    "class CriterionLayerCombine(nn.Module):\n",
    "    def __init__(\n",
    "        self, criteria_nr, hidden_nr, criterionLayerCombine_min_weight=0.0, **kwargs\n",
    "    ):\n",
    "        super().__init__()\n",
    "        self.criterionLayerCombine_min_weight = criterionLayerCombine_min_weight\n",
    "        self.weight = nn.Parameter(torch.FloatTensor(hidden_nr, criteria_nr))\n",
    "        self.reset_parameters()\n",
    "\n",
    "    def reset_parameters(self):\n",
    "        nn.init.uniform_(self.weight, 0.2, 1.0)\n",
    "        self.weight.data = self.weight.data / torch.sum(self.weight.data)\n",
    "\n",
    "    def w(self):\n",
    "        return torch.clamp(self.weight, self.criterionLayerCombine_min_weight)\n",
    "\n",
    "    def forward(self, x):\n",
    "        return (x * self.w()).sum(1)"
   ]
  },
  {
   "cell_type": "code",
   "execution_count": 5,
   "metadata": {},
   "outputs": [],
   "source": [
    "class LeakyHardSigmoid(nn.Module):\n",
    "    def __init__(self, **kwargs):\n",
    "        super().__init__()\n",
    "        self.slope = 0.01\n",
    "\n",
    "    def SetSlope(self, val):\n",
    "        self.slope = val\n",
    "\n",
    "    def forward(self, x):\n",
    "        return F.leaky_relu(1.0 - F.leaky_relu(1 - x, self.slope), self.slope)"
   ]
  },
  {
   "cell_type": "code",
   "execution_count": 6,
   "metadata": {},
   "outputs": [],
   "source": [
    "class Uta(nn.Sequential):\n",
    "    def __init__(self, criteria_nr, hidden_nr, **kwargs):\n",
    "        super().__init__()\n",
    "        self.criterionLayerSpread = CriterionLayerSpread(\n",
    "            criteria_nr, hidden_nr, **kwargs\n",
    "        )\n",
    "        self.activate_function = LeakyHardSigmoid(**kwargs)\n",
    "        self.criterionLayerCombine = CriterionLayerCombine(\n",
    "            criteria_nr, hidden_nr, **kwargs\n",
    "        )\n",
    "        self.sum_layer = SumLayer(criteria_nr, **kwargs)\n",
    "\n",
    "    def SetSlope(self, val):\n",
    "        self.activate_function.slope = val\n",
    "\n",
    "    def forward(self, x, *args, **kwargs):\n",
    "        for module in self._modules.values():\n",
    "            x = module(x)\n",
    "        return x"
   ]
  },
  {
   "cell_type": "code",
   "execution_count": 7,
   "metadata": {},
   "outputs": [],
   "source": [
    "class ThresholdLayer(nn.Module):\n",
    "    def __init__(self, threshold=None, requires_grad=True):\n",
    "        super().__init__()\n",
    "        if threshold is None:\n",
    "            self.threshold = nn.Parameter(\n",
    "                torch.FloatTensor(1).uniform_(0.1, 0.9), requires_grad=requires_grad\n",
    "            )\n",
    "        else:\n",
    "            self.treshold = nn.Parameter(\n",
    "                torch.FloatTensor([threshold]), requires_grad=requires_grad\n",
    "            )\n",
    "\n",
    "    def forward(self, x):\n",
    "        return x - self.threshold"
   ]
  },
  {
   "cell_type": "code",
   "execution_count": 8,
   "metadata": {},
   "outputs": [],
   "source": [
    "class NormLayer(nn.Module):\n",
    "    def __init__(self, method, criteria_nr):\n",
    "        super().__init__()\n",
    "        self.method = method\n",
    "        self.criteria_nr = criteria_nr\n",
    "        self.thresholdLayer = ThresholdLayer()\n",
    "\n",
    "    def forward(self, x, *args):\n",
    "        self.out = self.method(x)\n",
    "\n",
    "        zero_input = (\n",
    "            torch.FloatTensor(self.criteria_nr)\n",
    "            .zero_()\n",
    "            .view(1, 1, -1)\n",
    "            .to(self.out.device)\n",
    "        )\n",
    "        self.zero = self.method(zero_input)\n",
    "        self.one = self.method(zero_input + 1)\n",
    "\n",
    "        self.out = (self.out - self.zero) / (self.one - self.zero)\n",
    "        return self.tresholdLayer(self.out)"
   ]
  },
  {
   "cell_type": "code",
   "execution_count": 10,
   "metadata": {},
   "outputs": [],
   "source": [
    "path = \"monodata/lectures evaluation.csv\"\n",
    "data = pd.read_csv(path, header=None)\n",
    "target_map = {0: 0, 1: 0, 2: 0, 3: 1, 4: 1}\n",
    "criteria_nr = 4\n",
    "data_input = data.iloc[:, :criteria_nr]\n",
    "data_target = data[criteria_nr].apply(lambda x: target_map[x])\n",
    "\n",
    "data_input = data_input.values.reshape(-1, 1, criteria_nr)\n",
    "\n",
    "X_train, X_test, y_train, y_test = train_test_split(\n",
    "    data_input, data_target.values, test_size=0.2, random_state=1234\n",
    ")"
   ]
  },
  {
   "cell_type": "code",
   "execution_count": 11,
   "metadata": {},
   "outputs": [],
   "source": [
    "train_dataloader = CreateDataLoader(X_train, y_train)\n",
    "test_dataloader = CreateDataLoader(X_test, y_test)"
   ]
  },
  {
   "cell_type": "code",
   "execution_count": null,
   "metadata": {},
   "outputs": [],
   "source": [
    "PATH = \"uta.pt2\""
   ]
  },
  {
   "cell_type": "code",
   "execution_count": null,
   "metadata": {},
   "outputs": [
    {
     "name": "stderr",
     "output_type": "stream",
     "text": [
      "100%|████████████████████████████████████████| 200/200 [00:08<00:00, 23.96it/s]"
     ]
    },
    {
     "name": "stdout",
     "output_type": "stream",
     "text": [
      "Accuracy train:\t81.38%\n",
      "AUC train: \t85.00%\n",
      "\n",
      "Accuracy test:\t85.47%\n",
      "AUC test: \t88.60%\n"
     ]
    },
    {
     "name": "stderr",
     "output_type": "stream",
     "text": [
      "\n"
     ]
    }
   ],
   "source": [
    "uta = Uta(criteria_nr, 30)\n",
    "model = NormLayer(uta, criteria_nr)\n",
    "\n",
    "acc, acc_test, auc, auc_test = Train(model, train_dataloader, test_dataloader, PATH)\n",
    "\n",
    "print(\"Accuracy train:\\t%.2f%%\" % (acc * 100.0))\n",
    "print(\"AUC train: \\t%.2f%%\" % (acc_test * 100.0))\n",
    "print()\n",
    "print(\"Accuracy test:\\t%.2f%%\" % (auc * 100.0))\n",
    "print(\"AUC test: \\t%.2f%%\" % (auc_test * 100.0))"
   ]
  },
  {
   "cell_type": "code",
   "execution_count": null,
   "metadata": {},
   "outputs": [
    {
     "data": {
      "text/plain": [
       "<All keys matched successfully>"
      ]
     },
     "execution_count": 23,
     "metadata": {},
     "output_type": "execute_result"
    }
   ],
   "source": [
    "checkpoint = torch.load(PATH)\n",
    "model.load_state_dict(checkpoint[\"model_state_dict\"])"
   ]
  },
  {
   "cell_type": "code",
   "execution_count": null,
   "metadata": {},
   "outputs": [],
   "source": [
    "def getSimpleInput(val):\n",
    "    return torch.FloatTensor([[val] * criteria_nr]).view(1, 1, -1).cpu()\n",
    "\n",
    "\n",
    "hook = Hook(model.method.criterionLayerCombine, append_output)\n",
    "xs = []\n",
    "with torch.no_grad():\n",
    "    for i in range(201):\n",
    "        val = i / 200.0\n",
    "        x = getSimpleInput(val)\n",
    "        xs.append(val)\n",
    "        model(x)\n",
    "\n",
    "outs = np.array(torch.stack(hook.stats)[:, 0].detach().cpu())\n",
    "outs = outs * model.method.sum_layer.weight.detach().numpy()[0]\n",
    "outs = outs[::3] - outs[::3][0]\n",
    "outs = outs / outs[-1].sum()"
   ]
  },
  {
   "cell_type": "code",
   "execution_count": null,
   "metadata": {},
   "outputs": [
    {
     "data": {
      "image/png": "[encoded data removed]",
      "text/plain": [
       "<Figure size 432x288 with 1 Axes>"
      ]
     },
     "metadata": {
      "needs_background": "light"
     },
     "output_type": "display_data"
    },
    {
     "data": {
      "image/png": "[encoded data removed]",
      "text/plain": [
       "<Figure size 432x288 with 1 Axes>"
      ]
     },
     "metadata": {
      "needs_background": "light"
     },
     "output_type": "display_data"
    },
    {
     "data": {
      "image/png": "[encoded data removed]",
      "text/plain": [
       "<Figure size 432x288 with 1 Axes>"
      ]
     },
     "metadata": {
      "needs_background": "light"
     },
     "output_type": "display_data"
    },
    {
     "data": {
      "image/png": "[encoded data removed]",
      "text/plain": [
       "<Figure size 432x288 with 1 Axes>"
      ]
     },
     "metadata": {
      "needs_background": "light"
     },
     "output_type": "display_data"
    }
   ],
   "source": [
    "for i in range(criteria_nr):\n",
    "    plt.plot(xs, outs[:, i], color=\"black\")\n",
    "    plt.ylabel(\"marginal value $u_{0}(a_i)$\".format(i + 1), fontsize=14)\n",
    "    plt.xlabel(\"performance $g_{0}(a_i)$\".format(i + 1), fontsize=14)\n",
    "    plt.show()"
   ]
  },
  {
   "cell_type": "code",
   "execution_count": null,
   "metadata": {},
   "outputs": [],
   "source": []
  }
 ],
 "metadata": {
  "kernelspec": {
   "display_name": "Python 3",
   "language": "python",
   "name": "python3"
  },
  "language_info": {
   "codemirror_mode": {
    "name": "ipython",
    "version": 3
   },
   "file_extension": ".py",
   "mimetype": "text/x-python",
   "name": "python",
   "nbconvert_exporter": "python",
   "pygments_lexer": "ipython3",
   "version": "3.10.8"
  }
 },
 "nbformat": 4,
 "nbformat_minor": 4
}
